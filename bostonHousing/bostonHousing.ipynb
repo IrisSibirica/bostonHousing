{
 "cells": [
  {
   "cell_type": "code",
   "execution_count": 3,
   "metadata": {
    "collapsed": false
   },
   "outputs": [
    {
     "name": "stdout",
     "output_type": "stream",
     "text": [
      "[[  2.11240000e-01   5.63100000e+00   6.08210000e+00   3.11000000e+02\n",
      "    1.52000000e+01   1.00000000e+00]]\n"
     ]
    }
   ],
   "source": [
    "# 2017-07-05 \n",
    "\"\"\"\n",
    "   training a model\n",
    "\"\"\"\n",
    "from sklearn.cross_validation import train_test_split\n",
    "\n",
    "from sklearn.externals import joblib\n",
    "from sklearn import linear_model\n",
    "import pandas as pd #\n",
    "import numpy as np\n",
    "import os\n",
    "from sklearn.ensemble import RandomForestRegressor \n",
    "from sklearn.metrics import r2_score, mean_squared_error\n",
    "\n",
    "import os\n",
    "savedir = os.getcwd()\n",
    "\n",
    "filename1 = os.path.join(savedir, 'static', 'model_columns.pkl')\n",
    "filename2 = os.path.join(savedir, 'static', 'model.pkl')\n",
    "filename3 = os.path.join(savedir, 'static', 'housing.csv')\n",
    "filename4 = os.path.join(savedir, 'static', 'lm_model.pkl')\n",
    "filename_t = os.path.join(savedir, 'static', 't.pkl')\n",
    "filename_MSE = os.path.join(savedir, 'static', 'mse.pkl')\n",
    "filename_XTX_inv = os.path.join(savedir, 'static', 'xtx_inv.pkl')\n",
    "\n",
    "# Load the Boston housing dataset\n",
    "boston = pd.read_csv(filename3)\n",
    "boston = pd.DataFrame(boston)\n",
    "include = ['crime_rate', 'avg_number_of_rooms', 'distance_to_employment_centers', 'property_tax_rate', 'pupil_teacher_ratio']\n",
    "features = boston[include].values\n",
    "#features.columns = include\n",
    "y = boston['house_value'].values\n",
    "\n",
    "\n",
    "X_train, X_test, y_train, y_test = train_test_split(features, y, test_size = 0.33, random_state = 1978)\n",
    "\n",
    "\n",
    "# linear regression\n",
    "\n",
    "normalize = False\n",
    "n_jobs = 1\n",
    "LR = linear_model.LinearRegression(normalize=normalize, n_jobs= n_jobs)\n",
    "t_value = 2.13144955 # t value to get the 95% conf. interval.\n",
    "        \n",
    "x = pd.DataFrame(features)\n",
    "y = pd.DataFrame(y)\n",
    "        \n",
    "LR.fit(x, y)\n",
    "features_fit = LR.predict(x)\n",
    "MSE = np.power(y.subtract(features_fit), 2).sum(axis=0) / (x.shape[0] - x.shape[1] - 1)\n",
    "x.loc[:, 'const_one'] = 1\n",
    "XTX_inv = np.linalg.inv(np.dot(np.transpose(x.values) , x.values))\n",
    "\n",
    "model = LR\n",
    "\n",
    "#joblib.dump(model, filename4)\n",
    "#joblib.dump(t_value, filename_t)\n",
    "#joblib.dump(MSE, filename_MSE)\n",
    "#joblib.dump(XTX_inv, filename_XTX_inv)\n",
    "\n",
    "# calculate confidence intervals for new data\n",
    "mean_x = np.mean(x)         # mean of x\n",
    "n = len(x)              # number of samples in origional fit\n",
    "t = 2.132   # appropriate t value (where n=5, two tailed 95%)\n",
    "y_err = y - features_fit      # residuals\n",
    "s_err = np.sum(np.power(y_err,2))   # sum of the squares of the residuals\n",
    "\n",
    "a = x.values[[7]]\n",
    "print(a)\n",
    "#b = a.reshape(-1,len(a))\n",
    "#print(b)\n",
    "\n",
    "#p_x = a\n",
    "#confs = t * np.sqrt((s_err/(n-2))*(1.0/n + (np.power((p_x-mean_x),2)/((np.sum(np.power(x,2)))-n*(np.power(mean_x,2))))))\n",
    " \n",
    "# now predict y based on test x-values\n",
    "#p_y = z[0]*p_x+z[0]\n",
    " \n",
    "# get lower and upper confidence limits based on predicted y and confidence intervals\n",
    "#lower = p_y - abs(confs)\n",
    "#upper = p_y + abs(confs)\n",
    "\n"
   ]
  },
  {
   "cell_type": "code",
   "execution_count": 45,
   "metadata": {
    "collapsed": false
   },
   "outputs": [],
   "source": [
    "\n"
   ]
  },
  {
   "cell_type": "code",
   "execution_count": null,
   "metadata": {
    "collapsed": false
   },
   "outputs": [],
   "source": [
    "    \n",
    "\n",
    "    \n",
    "  \n"
   ]
  },
  {
   "cell_type": "code",
   "execution_count": null,
   "metadata": {
    "collapsed": false
   },
   "outputs": [],
   "source": [
    "\n"
   ]
  },
  {
   "cell_type": "code",
   "execution_count": 5,
   "metadata": {
    "collapsed": false
   },
   "outputs": [
    {
     "name": "stderr",
     "output_type": "stream",
     "text": [
      "/Users/myliheik/anaconda/lib/python3.5/site-packages/ipykernel/__main__.py:5: DataConversionWarning: A column-vector y was passed when a 1d array was expected. Please change the shape of y to (n_samples,), for example using ravel().\n"
     ]
    },
    {
     "name": "stdout",
     "output_type": "stream",
     "text": [
      "RF test set MSE: 21.95\n",
      "RF test set R2: 0.76\n",
      "[32.4375] [ 34.826] [37.614999999999995]\n"
     ]
    }
   ],
   "source": [
    "## Random Forest\n",
    "\n",
    "\n",
    "rfModel = RandomForestRegressor(n_estimators=100, max_features = 2, min_samples_leaf=1)\n",
    "rfModel.fit(features, y)\n",
    "# save the model to disk\n",
    "\n",
    "joblib.dump(rfModel, filename2)\n",
    "\n",
    "rf = RandomForestRegressor(n_estimators=100, max_features = 2, min_samples_leaf=1)\n",
    "rf.fit(X_train, y_train)\n",
    "\n",
    "print(\"RF test set MSE: %.2f\"\n",
    "      % np.mean((y_test - rf.predict(X_test))**2)) # MSE\n",
    "\n",
    "print(\"RF test set R2: %.2f\"\n",
    "      % r2_score(y_test, rf.predict(X_test))) # R2\n",
    "\n",
    "def pred_ints(model, X, percentile=95):\n",
    "    err_down = []\n",
    "    err_up = []\n",
    "    preds = []\n",
    "    for pred in model.estimators_:\n",
    "        preds.append(pred.predict(X)[0])\n",
    "    err_down.append(np.percentile(preds, (100 - percentile) / 2. ))\n",
    "    err_up.append(np.percentile(preds, 100 - (100 - percentile) / 2.))\n",
    "    return err_down, err_up\n",
    "\n",
    "a = features[1,]\n",
    "b = a.reshape(-1,len(a))\n",
    "\n",
    "\n",
    "err_down, err_up = pred_ints(rfModel, b)\n",
    "pred = rfModel.predict(b)\n",
    " \n",
    "print(err_down, pred, err_up)"
   ]
  },
  {
   "cell_type": "code",
   "execution_count": null,
   "metadata": {
    "collapsed": true
   },
   "outputs": [],
   "source": []
  },
  {
   "cell_type": "code",
   "execution_count": null,
   "metadata": {
    "collapsed": true
   },
   "outputs": [],
   "source": []
  },
  {
   "cell_type": "code",
   "execution_count": null,
   "metadata": {
    "collapsed": true
   },
   "outputs": [],
   "source": []
  }
 ],
 "metadata": {
  "kernelspec": {
   "display_name": "Python [Root]",
   "language": "python",
   "name": "Python [Root]"
  },
  "language_info": {
   "codemirror_mode": {
    "name": "ipython",
    "version": 3
   },
   "file_extension": ".py",
   "mimetype": "text/x-python",
   "name": "python",
   "nbconvert_exporter": "python",
   "pygments_lexer": "ipython3",
   "version": "3.5.2"
  }
 },
 "nbformat": 4,
 "nbformat_minor": 0
}
